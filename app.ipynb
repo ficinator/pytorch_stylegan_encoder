{
 "cells": [
  {
   "cell_type": "code",
   "execution_count": null,
   "id": "8211aced",
   "metadata": {},
   "outputs": [],
   "source": [
    "import gradio as gr\n",
    "import torch\n",
    "import numpy as np\n",
    "from torchvision import transforms\n",
    "from PIL import Image\n",
    "from IPython.display import display\n",
    "from pathlib import Path\n",
    "\n",
    "from InterFaceGAN.models.stylegan_generator import StyleGANGenerator\n",
    "from models.image_to_latent import ImageToLatent\n",
    "from models.latent_optimizer import PostSynthesisProcessing"
   ]
  },
  {
   "cell_type": "markdown",
   "id": "a270a839",
   "metadata": {},
   "source": [
    "## Load Synthesizer"
   ]
  },
  {
   "cell_type": "code",
   "execution_count": null,
   "id": "a917d3aa",
   "metadata": {},
   "outputs": [],
   "source": [
    "image_size = 256\n",
    "synthesizer_name = 'stylegan_ffhq'\n",
    "\n",
    "synthesizer = StyleGANGenerator(synthesizer_name).model.synthesis\n",
    "post_processor = PostSynthesisProcessing()"
   ]
  },
  {
   "cell_type": "code",
   "execution_count": null,
   "id": "65c5ec7d",
   "metadata": {},
   "outputs": [],
   "source": [
    "def synthesize(latent):\n",
    "    synth = synthesizer(latent)\n",
    "    postproc = post_processor(synth).detach().numpy().astype(np.uint8)[0].transpose((1, 2, 0))\n",
    "    from_tensor = transforms.ToPILImage()\n",
    "    output_image = from_tensor(postproc)\n",
    "    output_image.thumbnail((image_size, image_size))\n",
    "    return output_image"
   ]
  },
  {
   "cell_type": "code",
   "execution_count": null,
   "id": "14e55f49",
   "metadata": {},
   "outputs": [],
   "source": [
    "output_dir = Path('output/stylegan_ffhq')\n",
    "path1 = output_dir/'dlatents/maoka.npy'\n",
    "latent1 = np.load(path1).squeeze()\n",
    "path2 = output_dir/'dlatents/mamala.npy'\n",
    "latent2 = np.load(path2).squeeze()\n",
    "\n",
    "age_boundary_path = 'InterFaceGAN/boundaries/stylegan_ffhq_age_w_boundary.npy'\n",
    "age_boundary = np.load(age_boundary_path)\n",
    "gender_boundary_path = 'InterFaceGAN/boundaries/stylegan_ffhq_gender_w_boundary.npy'\n",
    "gender_boundary = np.load(gender_boundary_path)\n",
    "\n",
    "\n",
    "latent = np.mean((latent1, latent2), axis=0)\n",
    "# latent = latent2\n",
    "latent -= 3 * age_boundary\n",
    "latent -= gender_boundary"
   ]
  },
  {
   "cell_type": "code",
   "execution_count": null,
   "id": "06e48b0b",
   "metadata": {
    "scrolled": false
   },
   "outputs": [],
   "source": [
    "img1 = Image.open(output_dir/'images/maoka.jpg')\n",
    "img1.thumbnail((image_size, image_size))\n",
    "\n",
    "\n",
    "img2 = Image.open(output_dir/'images/mamala.jpg')\n",
    "img2.thumbnail((image_size, image_size))\n",
    "\n",
    "\n",
    "offspring = synthesize(transforms.ToTensor()(latent).float())\n",
    "\n",
    "display(img1, img2, offspring)"
   ]
  },
  {
   "cell_type": "markdown",
   "id": "6b3b3238",
   "metadata": {},
   "source": [
    "## Load Encoder"
   ]
  },
  {
   "cell_type": "code",
   "execution_count": null,
   "id": "a954c2c8",
   "metadata": {},
   "outputs": [],
   "source": [
    "# model_path = '2022-11-17_13:17_1000.pt'\n",
    "model_path = '2022-11-20_11 06_50000_19.pt'\n",
    "\n",
    "image_to_latent = ImageToLatent(image_size)\n",
    "\n",
    "checkpoint = torch.load(model_path, map_location=torch.device('cpu'))\n",
    "\n",
    "image_to_latent.load_state_dict(checkpoint['model_state_dict'])\n",
    "# image_to_latent.load_state_dict(checkpoint)\n",
    "image_to_latent.eval()"
   ]
  },
  {
   "cell_type": "code",
   "execution_count": null,
   "id": "06581a53",
   "metadata": {},
   "outputs": [],
   "source": [
    "def predict(image):\n",
    "    to_tensor = transforms.ToTensor()\n",
    "    latent = image_to_latent(to_tensor(image).unsqueeze(0))\n",
    "    return synthesize(latent)"
   ]
  },
  {
   "cell_type": "code",
   "execution_count": null,
   "id": "8c96e55c",
   "metadata": {},
   "outputs": [],
   "source": [
    "img = Image.open('data/us/maoka.png')\n",
    "img.thumbnail((image_size, image_size))"
   ]
  },
  {
   "cell_type": "code",
   "execution_count": null,
   "id": "758a338f",
   "metadata": {},
   "outputs": [],
   "source": [
    "display(img, predict(img))"
   ]
  }
 ],
 "metadata": {
  "kernelspec": {
   "display_name": "Python 3 (ipykernel)",
   "language": "python",
   "name": "python3"
  },
  "language_info": {
   "codemirror_mode": {
    "name": "ipython",
    "version": 3
   },
   "file_extension": ".py",
   "mimetype": "text/x-python",
   "name": "python",
   "nbconvert_exporter": "python",
   "pygments_lexer": "ipython3",
   "version": "3.10.6"
  }
 },
 "nbformat": 4,
 "nbformat_minor": 5
}
