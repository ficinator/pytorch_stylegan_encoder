{
 "cells": [
  {
   "cell_type": "markdown",
   "metadata": {
    "id": "fC4zWOuFr8Fz"
   },
   "source": [
    "## Clone out InterFaceGAN\n",
    "\n"
   ]
  },
  {
   "cell_type": "code",
   "execution_count": null,
   "metadata": {},
   "outputs": [],
   "source": [
    "!git clone https://github.com/genforce/interfacegan.git InterFaceGAN && cd InterFaceGAN && git checkout b707e942187f464251f855c92f7009b8cf13bf03"
   ]
  },
  {
   "cell_type": "code",
   "execution_count": 1,
   "metadata": {
    "id": "9BgFAjsVq6mw"
   },
   "outputs": [],
   "source": [
    "import sys\n",
    "import logging\n",
    "import numpy as np\n",
    "import cv2\n",
    "from glob import glob\n",
    "from pathlib import Path\n",
    "from collections import defaultdict\n",
    "from tqdm.notebook import tqdm\n",
    "\n",
    "from InterFaceGAN.models.stylegan_generator import StyleGANGenerator"
   ]
  },
  {
   "cell_type": "code",
   "execution_count": 2,
   "metadata": {},
   "outputs": [],
   "source": [
    "# set up logging\n",
    "logger = logging.getLogger('generate_data')\n",
    "\n",
    "if not logger.handlers:\n",
    "    sh = logging.StreamHandler(sys.stdout)\n",
    "    sh.setFormatter(logging.Formatter(\n",
    "        fmt='%(asctime)s [%(levelname)s] %(message)s',\n",
    "        datefmt='%Y-%m-%d %H:%M:%S',\n",
    "    ))\n",
    "    logger.addHandler(sh)"
   ]
  },
  {
   "cell_type": "code",
   "execution_count": 3,
   "metadata": {
    "colab": {
     "base_uri": "https://localhost:8080/"
    },
    "id": "qVZSXWp_hbnI",
    "outputId": "fda28642-3d0a-42c8-bb98-6dd7ca18ee2b"
   },
   "outputs": [],
   "source": [
    "# Colab\n",
    "# from google.colab import drive\n",
    "# drive.mount('/content/drive')"
   ]
  },
  {
   "cell_type": "markdown",
   "metadata": {
    "id": "t8zr4fwr2kIL"
   },
   "source": [
    "## Download the Pretrained Model"
   ]
  },
  {
   "cell_type": "code",
   "execution_count": 4,
   "metadata": {
    "id": "1hzZkaxZ2sC4"
   },
   "outputs": [
    {
     "name": "stdout",
     "output_type": "stream",
     "text": [
      "[2022-11-20 00:20:25,258][INFO] Loading pytorch model from `InterFaceGAN/models/pretrain/stylegan_ffhq.pth`.\n",
      "[2022-11-20 00:20:25,397][INFO] Successfully loaded!\n",
      "[2022-11-20 00:20:25,399][INFO]   `lod` of the loaded model is 0.0.\n"
     ]
    }
   ],
   "source": [
    "MODEL_NAME = 'stylegan_ffhq'\n",
    "!wget https://www.dropbox.com/s/qyv37eaobnow7fu/{MODEL_NAME}.pth?dl=1 -O InterFaceGAN/models/pretrain/{MODEL_NAME}.pth --quiet    \n",
    "model = StyleGANGenerator(MODEL_NAME)"
   ]
  },
  {
   "cell_type": "markdown",
   "metadata": {},
   "source": [
    "## Generate Images\n",
    "\n",
    "To Each run generate only 10k images to fit into Kaggle limits. It takes around 15 minutes and the final zip file has around 3 GB."
   ]
  },
  {
   "cell_type": "code",
   "execution_count": 8,
   "metadata": {
    "colab": {
     "base_uri": "https://localhost:8080/"
    },
    "id": "fGzYEIGY5yRc",
    "outputId": "7bbf8319-61e4-4a7c-a38b-e29c43f28250"
   },
   "outputs": [
    {
     "name": "stdout",
     "output_type": "stream",
     "text": [
      "rm: cannot remove 'tmp/stylegan_ffhq': No such file or directory\r\n"
     ]
    },
    {
     "data": {
      "application/vnd.jupyter.widget-view+json": {
       "model_id": "",
       "version_major": 2,
       "version_minor": 0
      },
      "text/plain": [
       "  0%|          | 0/10 [00:00<?, ?it/s]"
      ]
     },
     "metadata": {},
     "output_type": "display_data"
    }
   ],
   "source": [
    "RUN_NUM = 0\n",
    "NUM_IMAGES = 10\n",
    "\n",
    "TMP_DIR = Path('tmp')/MODEL_NAME\n",
    "!rm -r {TMP_DIR}\n",
    "!mkdir -p {TMP_DIR}\n",
    "# !python InterFaceGAN/generate_data.py -m {MODEL_NAME} -o {TMP_DIR} -n {NUM_IMAGES}\n",
    "\n",
    "logger.info(f'Started run #{RUN_NUM}')\n",
    "logger.info(f'Started generating {NUM_IMAGES} images.')\n",
    "\n",
    "latent_codes = model.easy_sample(NUM_IMAGES)\n",
    "results = defaultdict(list)\n",
    "pbar = tqdm(total=NUM_IMAGES, leave=False)\n",
    "\n",
    "\n",
    "for latent_codes_batch in model.get_batch_inputs(latent_codes):\n",
    "    outputs = model.easy_synthesize(latent_codes_batch)\n",
    "    for key, val in outputs.items():\n",
    "        if key == 'image':\n",
    "            for image in val:\n",
    "                cv2.imwrite(str(TMP_DIR/f'{pbar.n + RUN_NUM * NUM_IMAGES:06d}.jpg'), image[:, :, ::-1])\n",
    "                pbar.update(1)\n",
    "        else:\n",
    "            results[key].append(val)\n",
    "    if 'image' not in outputs:\n",
    "        pbar.update(latent_codes_batch.shape[0])\n",
    "pbar.close()\n",
    "\n",
    "logger.info(f'Finished generating {NUM_IMAGES} images.')\n",
    "\n",
    "for key, val in results.items():\n",
    "    result_path = TMP_DIR/f'{key}_{RUN_NUM:02d}.npy'\n",
    "    np.save(result_path, np.concatenate(val, axis=0))\n",
    "    logger.info(f'Saved result {key} to {result_path}')\n",
    "\n",
    "logger.info(f'Finished run #{RUN_NUM}')"
   ]
  },
  {
   "cell_type": "markdown",
   "metadata": {},
   "source": [
    "## Zip the Images and dlatents"
   ]
  },
  {
   "cell_type": "code",
   "execution_count": null,
   "metadata": {
    "colab": {
     "base_uri": "https://localhost:8080/"
    },
    "id": "fGzYEIGY5yRc",
    "outputId": "7bbf8319-61e4-4a7c-a38b-e29c43f28250"
   },
   "outputs": [],
   "source": [
    "ZIP_PATH = Path('data')/f'{MODEL_NAME}_{RUN_NUM:02d}.zip'\n",
    "logger.info(f'Started compressing data to {ZIP_PATH}')\n",
    "!zip -jqr {ZIP_PATH} {TMP_DIR}\n",
    "logger.info(f'Finished compressing data to {ZIP_PATH}')"
   ]
  },
  {
   "cell_type": "markdown",
   "metadata": {},
   "source": [
    "## Combine Data\n",
    "\n",
    "After unziping all the folders and moving all the files to `data/stylegan_ffhq` folder run the following cell to concatenate the dlatents"
   ]
  },
  {
   "cell_type": "code",
   "execution_count": 6,
   "metadata": {},
   "outputs": [],
   "source": [
    "DATA_DIR = Path('data')/MODEL_NAME"
   ]
  },
  {
   "cell_type": "code",
   "execution_count": 19,
   "metadata": {},
   "outputs": [],
   "source": [
    "for latent_space_type in ['w', 'wp', 'z']:\n",
    "    paths = sorted(glob(str(DATA_DIR/f'{latent_space_type}_*.npy')))\n",
    "    dlatents = np.vstack(list(map(np.load, paths)))\n",
    "    np.save(DATA_DIR/f'{latent_space_type}.npy', dlatents)"
   ]
  }
 ],
 "metadata": {
  "accelerator": "TPU",
  "colab": {
   "provenance": []
  },
  "gpuClass": "standard",
  "kernelspec": {
   "display_name": "Python 3 (ipykernel)",
   "language": "python",
   "name": "python3"
  },
  "language_info": {
   "codemirror_mode": {
    "name": "ipython",
    "version": 3
   },
   "file_extension": ".py",
   "mimetype": "text/x-python",
   "name": "python",
   "nbconvert_exporter": "python",
   "pygments_lexer": "ipython3",
   "version": "3.10.6"
  }
 },
 "nbformat": 4,
 "nbformat_minor": 4
}
