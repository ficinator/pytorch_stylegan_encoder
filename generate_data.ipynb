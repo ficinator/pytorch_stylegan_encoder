{
 "cells": [
  {
   "cell_type": "markdown",
   "metadata": {},
   "source": [
    "## Clone out interfacegan"
   ]
  },
  {
   "cell_type": "code",
   "execution_count": null,
   "metadata": {},
   "outputs": [],
   "source": [
    "# Kaggle\n",
    "!git clone https://github.com/ficinator/interfacegan.git && cd interfacegan && git checkout kaggle"
   ]
  },
  {
   "cell_type": "code",
   "execution_count": null,
   "metadata": {
    "id": "9BgFAjsVq6mw"
   },
   "outputs": [],
   "source": [
    "import sys\n",
    "import logging\n",
    "import numpy as np\n",
    "from glob import glob\n",
    "from pathlib import Path\n",
    "from collections import defaultdict\n",
    "from tqdm.notebook import tqdm\n",
    "from PIL import Image\n",
    "\n",
    "from interfacegan.models.stylegan_generator import StyleGANGenerator"
   ]
  },
  {
   "cell_type": "code",
   "execution_count": null,
   "metadata": {},
   "outputs": [],
   "source": [
    "# set up logging\n",
    "logger = logging.getLogger('generate_data')\n",
    "\n",
    "if not logger.handlers:\n",
    "    sh = logging.StreamHandler(sys.stdout)\n",
    "    sh.setFormatter(logging.Formatter(\n",
    "        fmt='%(asctime)s [%(levelname)s] %(message)s',\n",
    "        datefmt='%Y-%m-%d %H:%M:%S',\n",
    "    ))\n",
    "    logger.addHandler(sh)\n",
    "    \n",
    "logger.setLevel(logging.DEBUG)"
   ]
  },
  {
   "cell_type": "code",
   "execution_count": null,
   "metadata": {
    "colab": {
     "base_uri": "https://localhost:8080/"
    },
    "id": "qVZSXWp_hbnI",
    "outputId": "fda28642-3d0a-42c8-bb98-6dd7ca18ee2b"
   },
   "outputs": [],
   "source": [
    "# Colab\n",
    "# from google.colab import drive\n",
    "# drive.mount('/content/drive')"
   ]
  },
  {
   "cell_type": "markdown",
   "metadata": {
    "id": "t8zr4fwr2kIL"
   },
   "source": [
    "## Download the Pretrained Model"
   ]
  },
  {
   "cell_type": "code",
   "execution_count": null,
   "metadata": {
    "id": "1hzZkaxZ2sC4"
   },
   "outputs": [],
   "source": [
    "model_name = 'stylegan_ffhq'\n",
    "model_path = Path('interfacegan/models/pretrain')/f'{model_name}.pth'\n",
    "\n",
    "if not model_path.exists():\n",
    "    !wget https://www.dropbox.com/s/qyv37eaobnow7fu/{model_name}.pth?dl=1 -O {model_path}\n",
    "model = StyleGANGenerator(model_name)"
   ]
  },
  {
   "cell_type": "markdown",
   "metadata": {},
   "source": [
    "## Generate Images\n",
    "\n",
    "To Each run generate only 10k images to fit into Kaggle limits. It takes around 15 minutes and the final zip file has around 3 GB."
   ]
  },
  {
   "cell_type": "code",
   "execution_count": null,
   "metadata": {
    "colab": {
     "base_uri": "https://localhost:8080/"
    },
    "id": "fGzYEIGY5yRc",
    "outputId": "7bbf8319-61e4-4a7c-a38b-e29c43f28250"
   },
   "outputs": [],
   "source": [
    "run_num = 0\n",
    "num_images = 10000\n",
    "offset = run_num * num_images\n",
    "\n",
    "output_dir = Path('output')/model_name\n",
    "images_dir = output_dir/'images'\n",
    "latents_dir = output_dir/'latents'\n",
    "\n",
    "images_dir.mkdir(parents=True, exist_ok=True)\n",
    "for latent_space_type in ['w', 'wp', 'z']:\n",
    "    (latents_dir/latent_space_type).mkdir(parents=True, exist_ok=True)\n",
    "\n",
    "# !python interfacegan/generate_data.py -m {model_name} -o {tmp_dir} -n {num_images}\n",
    "\n",
    "logger.info(f'Run {run_num}: started generating {num_images} images from {latent_space_type} latents')\n",
    "\n",
    "latent_codes = model.easy_sample(num_images)\n",
    "pbar = tqdm(total=num_images)\n",
    "batch_size = model.batch_size\n",
    "\n",
    "for batch_num, latent_codes_batch in enumerate(model.get_batch_inputs(latent_codes)):\n",
    "    outputs = model.easy_synthesize(latent_codes_batch)\n",
    "    i = batch_num * batch_size\n",
    "    for key, val in outputs.items():\n",
    "        if key == 'image':\n",
    "            for j, image in enumerate(val):\n",
    "                Image.fromarray(image).save(images_dir/f'{i + j + offset:06d}.jpg')\n",
    "        else:\n",
    "            for j, latent in enumerate(val):\n",
    "                np.save(latents_dir/key/f'{i + j + offset:06d}.npy', latent)\n",
    "    pbar.update(len(latent_codes_batch))\n",
    "pbar.close()\n",
    "\n",
    "logger.info(f'Run {run_num}: finished generating {num_images} images from {latent_space_type} latents')"
   ]
  },
  {
   "cell_type": "markdown",
   "metadata": {},
   "source": [
    "## Zip the Images and dlatents"
   ]
  },
  {
   "cell_type": "code",
   "execution_count": null,
   "metadata": {
    "colab": {
     "base_uri": "https://localhost:8080/"
    },
    "id": "fGzYEIGY5yRc",
    "outputId": "7bbf8319-61e4-4a7c-a38b-e29c43f28250"
   },
   "outputs": [],
   "source": [
    "zip_path = f'{model_name}_{run_num:02d}.zip'\n",
    "logger.info(f'Started compressing data to {zip_path}')\n",
    "!zip -qr {zip_path} {output_dir}\n",
    "logger.info(f'Finished compressing data to {zip_path}')"
   ]
  },
  {
   "cell_type": "markdown",
   "metadata": {},
   "source": [
    "## Combine Data\n",
    "\n",
    "After unziping all the folders and moving all the files to `data/stylegan_ffhq` folder run the following cell to concatenate the dlatents"
   ]
  },
  {
   "cell_type": "code",
   "execution_count": null,
   "metadata": {},
   "outputs": [],
   "source": [
    "data_dir = Path('data')/model_name"
   ]
  },
  {
   "cell_type": "code",
   "execution_count": null,
   "metadata": {},
   "outputs": [],
   "source": [
    "for latent_space_type in ['w', 'wp', 'z']:\n",
    "    paths = sorted(glob(str(DATA_DIR/f'{latent_space_type}_*.npy')))\n",
    "    dlatents = np.vstack(list(map(np.load, paths)))\n",
    "    np.save(DATA_DIR/f'{latent_space_type}.npy', dlatents)"
   ]
  },
  {
   "cell_type": "code",
   "execution_count": null,
   "metadata": {},
   "outputs": [],
   "source": [
    "dlatents_dir = data_dir/'dlatents'\n",
    "\n",
    "for latents_path in dlatents_dir.glob('*.npy'):\n",
    "    latent_space_type = latents_path.stem\n",
    "    latents_dir = data_dir/'latents'/latent_space_type\n",
    "    latents_dir.mkdir(parents=True, exist_ok=True)\n",
    "    latents = np.load(latents_path)\n",
    "    logger.debug(latents.shape)\n",
    "    for i, latent in enumerate(latents):\n",
    "        np.save(latents_dir/f'{i + 10000:06d}.npy', latent)"
   ]
  }
 ],
 "metadata": {
  "accelerator": "TPU",
  "colab": {
   "provenance": []
  },
  "gpuClass": "standard",
  "kernelspec": {
   "display_name": "Python 3 (ipykernel)",
   "language": "python",
   "name": "python3"
  },
  "language_info": {
   "codemirror_mode": {
    "name": "ipython",
    "version": 3
   },
   "file_extension": ".py",
   "mimetype": "text/x-python",
   "name": "python",
   "nbconvert_exporter": "python",
   "pygments_lexer": "ipython3",
   "version": "3.10.6"
  }
 },
 "nbformat": 4,
 "nbformat_minor": 4
}
