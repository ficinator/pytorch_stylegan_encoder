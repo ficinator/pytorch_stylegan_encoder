{
 "cells": [
  {
   "cell_type": "code",
   "execution_count": null,
   "id": "4db218cc",
   "metadata": {},
   "outputs": [],
   "source": [
    "%load_ext autoreload\n",
    "%autoreload 2\n",
    "\n",
    "import numpy as np\n",
    "from pathlib import Path\n",
    "from PIL import Image\n",
    "\n",
    "from utilities.face_alignment import FaceAlignment"
   ]
  },
  {
   "cell_type": "code",
   "execution_count": null,
   "id": "426210bf",
   "metadata": {},
   "outputs": [],
   "source": [
    "predictor_path = 'shape_predictor_5_face_landmarks.dat'\n",
    "\n",
    "if not Path(predictor_path).exists():\n",
    "    !wget http://dlib.net/files/{predictor_path}.bz2\n",
    "    !bzip2 -d {predictor_path}.bz2"
   ]
  },
  {
   "cell_type": "code",
   "execution_count": null,
   "id": "399d74f0",
   "metadata": {},
   "outputs": [],
   "source": [
    "fa = FaceAlignment()"
   ]
  },
  {
   "cell_type": "code",
   "execution_count": null,
   "id": "a99a4146",
   "metadata": {},
   "outputs": [],
   "source": [
    "image_path = 'data/us/maoka.png'\n",
    "img = Image.open(image_path)\n",
    "img"
   ]
  },
  {
   "cell_type": "code",
   "execution_count": null,
   "id": "dc7ac487",
   "metadata": {},
   "outputs": [],
   "source": [
    "img = np.asarray(img)"
   ]
  },
  {
   "cell_type": "code",
   "execution_count": null,
   "id": "c5be1a8e",
   "metadata": {},
   "outputs": [],
   "source": [
    "dets = fa.detect_faces(img)\n",
    "len(dets)"
   ]
  },
  {
   "cell_type": "code",
   "execution_count": null,
   "id": "2a90b209",
   "metadata": {
    "scrolled": false
   },
   "outputs": [],
   "source": [
    "images = fa.get_aligned_face_images(img)\n",
    "# images = dlib.get_face_chips(img, faces, size=320)\n",
    "\n",
    "# # It is also possible to get a single chip\n",
    "# image = dlib.get_face_chip(img, faces[0])\n",
    "# display(*map(Image.fromarray, images))"
   ]
  },
  {
   "cell_type": "code",
   "execution_count": null,
   "id": "0a8e1ed7",
   "metadata": {},
   "outputs": [],
   "source": [
    "Image.fromarray(fa.get_aligned_face_image(img))"
   ]
  },
  {
   "cell_type": "code",
   "execution_count": null,
   "id": "838da997",
   "metadata": {},
   "outputs": [],
   "source": []
  }
 ],
 "metadata": {
  "kernelspec": {
   "display_name": "Python 3 (ipykernel)",
   "language": "python",
   "name": "python3"
  },
  "language_info": {
   "codemirror_mode": {
    "name": "ipython",
    "version": 3
   },
   "file_extension": ".py",
   "mimetype": "text/x-python",
   "name": "python",
   "nbconvert_exporter": "python",
   "pygments_lexer": "ipython3",
   "version": "3.10.6"
  }
 },
 "nbformat": 4,
 "nbformat_minor": 5
}
